{
  "nbformat": 4,
  "nbformat_minor": 0,
  "metadata": {
    "colab": {
      "name": "01_Introduction_to_NLP_Parts_of_Speech_Tagging.ipynb",
      "provenance": [],
      "collapsed_sections": []
    },
    "kernelspec": {
      "display_name": "Python 3",
      "language": "python",
      "name": "python3"
    },
    "language_info": {
      "codemirror_mode": {
        "name": "ipython",
        "version": 3
      },
      "file_extension": ".py",
      "mimetype": "text/x-python",
      "name": "python",
      "nbconvert_exporter": "python",
      "pygments_lexer": "ipython3",
      "version": "3.7.6"
    }
  },
  "cells": [
    {
      "cell_type": "markdown",
      "metadata": {
        "id": "mezUX-HyVI0x"
      },
      "source": [
        "# Parts of Speech Tagging\n",
        "\n",
        "Source: https://towardsdatascience.com/a-practitioners-guide-to-natural-language-processing-part-i-processing-understanding-text-9f4abfd13e72\n",
        "\n",
        "For any language, syntax and structure usually go hand in hand, where a set of specific rules, conventions, and principles govern the way words are combined into phrases; phrases get combines into clauses; and clauses get combined into sentences. \n",
        "\n",
        "Knowledge about the structure and syntax of language is helpful in many areas like text processing, annotation, and parsing for further operations such as text classification or summarization.\n",
        "\n",
        "__Parts of speech (POS)__ are specific lexical categories to which words are assigned, based on their syntactic context and role. Usually, words can fall into one of the following major categories.\n",
        "\n",
        "+ __N(oun)__: This usually denotes words that depict some object or entity, which may be living or nonliving. Some examples would be fox , dog , book , and so on. The POS tag symbol for nouns is N.\n",
        "\n",
        "+ __V(erb)__: Verbs are words that are used to describe certain actions, states, or occurrences. There are a wide variety of further subcategories, such as auxiliary, reflexive, and transitive verbs (and many more). Some typical examples of verbs would be running , jumping , read , and write . The POS tag symbol for verbs is V.\n",
        "\n",
        "+ __Adj(ective)__: Adjectives are words used to describe or qualify other words, typically nouns and noun phrases. The phrase beautiful flower has the noun (N) flower which is described or qualified using the adjective (ADJ) beautiful . The POS tag symbol for adjectives is ADJ .\n",
        "\n",
        "+ __Adv(erb)__: Adverbs usually act as modifiers for other words including nouns, adjectives, verbs, or other adverbs. The phrase very beautiful flower has the adverb (ADV) very , which modifies the adjective (ADJ) beautiful , indicating the degree to which the flower is beautiful. The POS tag symbol for adverbs is ADV.\n",
        "\n",
        "Besides these four major categories of parts of speech , there are other categories that occur frequently in the English language. These include pronouns, prepositions, interjections, conjunctions, determiners, and many others. Furthermore, each POS tag like the noun (N) can be further subdivided into categories like __singular nouns (NN)__, __singular proper nouns (NNP)__, and __plural nouns (NNS)__.\n",
        "\n",
        "The process of classifying and labeling POS tags for words called parts of speech tagging or POS tagging . "
      ]
    },
    {
      "cell_type": "code",
      "metadata": {
        "colab": {
          "base_uri": "https://localhost:8080/",
          "height": 35
        },
        "id": "hvix96uIVI0x",
        "outputId": "4c78d9a5-f214-420e-dfc0-7d9f347936d2"
      },
      "source": [
        "sentence = 'This NLP Workshop is being organized as a part of the GIDS AI/ML & DATA Live Conference 2020'\n",
        "sentence"
      ],
      "execution_count": 1,
      "outputs": [
        {
          "output_type": "execute_result",
          "data": {
            "application/vnd.google.colaboratory.intrinsic+json": {
              "type": "string"
            },
            "text/plain": [
              "'This NLP Workshop is being organized as a part of the GIDS AI/ML & DATA Live Conference 2020'"
            ]
          },
          "metadata": {
            "tags": []
          },
          "execution_count": 1
        }
      ]
    },
    {
      "cell_type": "code",
      "metadata": {
        "colab": {
          "base_uri": "https://localhost:8080/"
        },
        "id": "7j9ElOtMVI01",
        "outputId": "39c7ebdf-2de0-4397-9312-623b8947fae2"
      },
      "source": [
        "import nltk\n",
        "nltk.download('punkt')\n",
        "nltk.download('averaged_perceptron_tagger')"
      ],
      "execution_count": 2,
      "outputs": [
        {
          "output_type": "stream",
          "text": [
            "[nltk_data] Downloading package punkt to /root/nltk_data...\n",
            "[nltk_data]   Unzipping tokenizers/punkt.zip.\n",
            "[nltk_data] Downloading package averaged_perceptron_tagger to\n",
            "[nltk_data]     /root/nltk_data...\n",
            "[nltk_data]   Unzipping taggers/averaged_perceptron_tagger.zip.\n"
          ],
          "name": "stdout"
        },
        {
          "output_type": "execute_result",
          "data": {
            "text/plain": [
              "True"
            ]
          },
          "metadata": {
            "tags": []
          },
          "execution_count": 2
        }
      ]
    },
    {
      "cell_type": "code",
      "metadata": {
        "colab": {
          "base_uri": "https://localhost:8080/"
        },
        "id": "z6V2Ek6-VkpT",
        "outputId": "c5ce40db-a18d-4697-d890-93e9443039a0"
      },
      "source": [
        "nltk_pos_tagged = nltk.pos_tag(nltk.word_tokenize(sentence))\n",
        "nltk_pos_tagged"
      ],
      "execution_count": 3,
      "outputs": [
        {
          "output_type": "execute_result",
          "data": {
            "text/plain": [
              "[('This', 'DT'),\n",
              " ('NLP', 'NNP'),\n",
              " ('Workshop', 'NNP'),\n",
              " ('is', 'VBZ'),\n",
              " ('being', 'VBG'),\n",
              " ('organized', 'VBN'),\n",
              " ('as', 'IN'),\n",
              " ('a', 'DT'),\n",
              " ('part', 'NN'),\n",
              " ('of', 'IN'),\n",
              " ('the', 'DT'),\n",
              " ('GIDS', 'NNP'),\n",
              " ('AI/ML', 'NNP'),\n",
              " ('&', 'CC'),\n",
              " ('DATA', 'NNP'),\n",
              " ('Live', 'NNP'),\n",
              " ('Conference', 'NNP'),\n",
              " ('2020', 'CD')]"
            ]
          },
          "metadata": {
            "tags": []
          },
          "execution_count": 3
        }
      ]
    },
    {
      "cell_type": "code",
      "metadata": {
        "colab": {
          "base_uri": "https://localhost:8080/",
          "height": 106
        },
        "id": "ctmJlb-tVI03",
        "outputId": "24a32529-9f9e-4195-df82-53c72192bc90"
      },
      "source": [
        "import pandas as pd\n",
        "\n",
        "pd.DataFrame(nltk_pos_tagged, \n",
        "             columns=['Word', 'POS tag']).T"
      ],
      "execution_count": 4,
      "outputs": [
        {
          "output_type": "execute_result",
          "data": {
            "text/html": [
              "<div>\n",
              "<style scoped>\n",
              "    .dataframe tbody tr th:only-of-type {\n",
              "        vertical-align: middle;\n",
              "    }\n",
              "\n",
              "    .dataframe tbody tr th {\n",
              "        vertical-align: top;\n",
              "    }\n",
              "\n",
              "    .dataframe thead th {\n",
              "        text-align: right;\n",
              "    }\n",
              "</style>\n",
              "<table border=\"1\" class=\"dataframe\">\n",
              "  <thead>\n",
              "    <tr style=\"text-align: right;\">\n",
              "      <th></th>\n",
              "      <th>0</th>\n",
              "      <th>1</th>\n",
              "      <th>2</th>\n",
              "      <th>3</th>\n",
              "      <th>4</th>\n",
              "      <th>5</th>\n",
              "      <th>6</th>\n",
              "      <th>7</th>\n",
              "      <th>8</th>\n",
              "      <th>9</th>\n",
              "      <th>10</th>\n",
              "      <th>11</th>\n",
              "      <th>12</th>\n",
              "      <th>13</th>\n",
              "      <th>14</th>\n",
              "      <th>15</th>\n",
              "      <th>16</th>\n",
              "      <th>17</th>\n",
              "    </tr>\n",
              "  </thead>\n",
              "  <tbody>\n",
              "    <tr>\n",
              "      <th>Word</th>\n",
              "      <td>This</td>\n",
              "      <td>NLP</td>\n",
              "      <td>Workshop</td>\n",
              "      <td>is</td>\n",
              "      <td>being</td>\n",
              "      <td>organized</td>\n",
              "      <td>as</td>\n",
              "      <td>a</td>\n",
              "      <td>part</td>\n",
              "      <td>of</td>\n",
              "      <td>the</td>\n",
              "      <td>GIDS</td>\n",
              "      <td>AI/ML</td>\n",
              "      <td>&amp;</td>\n",
              "      <td>DATA</td>\n",
              "      <td>Live</td>\n",
              "      <td>Conference</td>\n",
              "      <td>2020</td>\n",
              "    </tr>\n",
              "    <tr>\n",
              "      <th>POS tag</th>\n",
              "      <td>DT</td>\n",
              "      <td>NNP</td>\n",
              "      <td>NNP</td>\n",
              "      <td>VBZ</td>\n",
              "      <td>VBG</td>\n",
              "      <td>VBN</td>\n",
              "      <td>IN</td>\n",
              "      <td>DT</td>\n",
              "      <td>NN</td>\n",
              "      <td>IN</td>\n",
              "      <td>DT</td>\n",
              "      <td>NNP</td>\n",
              "      <td>NNP</td>\n",
              "      <td>CC</td>\n",
              "      <td>NNP</td>\n",
              "      <td>NNP</td>\n",
              "      <td>NNP</td>\n",
              "      <td>CD</td>\n",
              "    </tr>\n",
              "  </tbody>\n",
              "</table>\n",
              "</div>"
            ],
            "text/plain": [
              "           0    1         2    3      4   ...  13    14    15          16    17\n",
              "Word     This  NLP  Workshop   is  being  ...   &  DATA  Live  Conference  2020\n",
              "POS tag    DT  NNP       NNP  VBZ    VBG  ...  CC   NNP   NNP         NNP    CD\n",
              "\n",
              "[2 rows x 18 columns]"
            ]
          },
          "metadata": {
            "tags": []
          },
          "execution_count": 4
        }
      ]
    },
    {
      "cell_type": "code",
      "metadata": {
        "id": "EcTCrMhoVI06"
      },
      "source": [
        "import spacy\n",
        "\n",
        "nlp = spacy.load('en')"
      ],
      "execution_count": 5,
      "outputs": []
    },
    {
      "cell_type": "code",
      "metadata": {
        "colab": {
          "base_uri": "https://localhost:8080/"
        },
        "id": "tOO_jetwVI08",
        "outputId": "0ca17631-9909-4632-d7e6-1ac485a84b4f"
      },
      "source": [
        "sentence_nlp = nlp(sentence)\n",
        "spacy_pos_tagged = [(word, word.tag_, word.pos_) for word in sentence_nlp]\n",
        "spacy_pos_tagged"
      ],
      "execution_count": 6,
      "outputs": [
        {
          "output_type": "execute_result",
          "data": {
            "text/plain": [
              "[(This, 'DT', 'DET'),\n",
              " (NLP, 'NNP', 'PROPN'),\n",
              " (Workshop, 'NNP', 'PROPN'),\n",
              " (is, 'VBZ', 'AUX'),\n",
              " (being, 'VBG', 'AUX'),\n",
              " (organized, 'VBN', 'VERB'),\n",
              " (as, 'IN', 'SCONJ'),\n",
              " (a, 'DT', 'DET'),\n",
              " (part, 'NN', 'NOUN'),\n",
              " (of, 'IN', 'ADP'),\n",
              " (the, 'DT', 'DET'),\n",
              " (GIDS, 'NNP', 'PROPN'),\n",
              " (AI, 'NNP', 'PROPN'),\n",
              " (/, 'SYM', 'SYM'),\n",
              " (ML, 'NNP', 'PROPN'),\n",
              " (&, 'CC', 'CCONJ'),\n",
              " (DATA, 'NNP', 'PROPN'),\n",
              " (Live, 'NNP', 'PROPN'),\n",
              " (Conference, 'NNP', 'PROPN'),\n",
              " (2020, 'CD', 'NUM')]"
            ]
          },
          "metadata": {
            "tags": []
          },
          "execution_count": 6
        }
      ]
    },
    {
      "cell_type": "code",
      "metadata": {
        "colab": {
          "base_uri": "https://localhost:8080/",
          "height": 136
        },
        "id": "w_AYcByRVI0-",
        "outputId": "cf6e696e-ac40-457e-a251-fd5dd1746a3e"
      },
      "source": [
        "pd.DataFrame(spacy_pos_tagged, \n",
        "             columns=['Word', 'POS tag', 'Tag type']).T"
      ],
      "execution_count": 7,
      "outputs": [
        {
          "output_type": "execute_result",
          "data": {
            "text/html": [
              "<div>\n",
              "<style scoped>\n",
              "    .dataframe tbody tr th:only-of-type {\n",
              "        vertical-align: middle;\n",
              "    }\n",
              "\n",
              "    .dataframe tbody tr th {\n",
              "        vertical-align: top;\n",
              "    }\n",
              "\n",
              "    .dataframe thead th {\n",
              "        text-align: right;\n",
              "    }\n",
              "</style>\n",
              "<table border=\"1\" class=\"dataframe\">\n",
              "  <thead>\n",
              "    <tr style=\"text-align: right;\">\n",
              "      <th></th>\n",
              "      <th>0</th>\n",
              "      <th>1</th>\n",
              "      <th>2</th>\n",
              "      <th>3</th>\n",
              "      <th>4</th>\n",
              "      <th>5</th>\n",
              "      <th>6</th>\n",
              "      <th>7</th>\n",
              "      <th>8</th>\n",
              "      <th>9</th>\n",
              "      <th>10</th>\n",
              "      <th>11</th>\n",
              "      <th>12</th>\n",
              "      <th>13</th>\n",
              "      <th>14</th>\n",
              "      <th>15</th>\n",
              "      <th>16</th>\n",
              "      <th>17</th>\n",
              "      <th>18</th>\n",
              "      <th>19</th>\n",
              "    </tr>\n",
              "  </thead>\n",
              "  <tbody>\n",
              "    <tr>\n",
              "      <th>Word</th>\n",
              "      <td>This</td>\n",
              "      <td>NLP</td>\n",
              "      <td>Workshop</td>\n",
              "      <td>is</td>\n",
              "      <td>being</td>\n",
              "      <td>organized</td>\n",
              "      <td>as</td>\n",
              "      <td>a</td>\n",
              "      <td>part</td>\n",
              "      <td>of</td>\n",
              "      <td>the</td>\n",
              "      <td>GIDS</td>\n",
              "      <td>AI</td>\n",
              "      <td>/</td>\n",
              "      <td>ML</td>\n",
              "      <td>&amp;</td>\n",
              "      <td>DATA</td>\n",
              "      <td>Live</td>\n",
              "      <td>Conference</td>\n",
              "      <td>2020</td>\n",
              "    </tr>\n",
              "    <tr>\n",
              "      <th>POS tag</th>\n",
              "      <td>DT</td>\n",
              "      <td>NNP</td>\n",
              "      <td>NNP</td>\n",
              "      <td>VBZ</td>\n",
              "      <td>VBG</td>\n",
              "      <td>VBN</td>\n",
              "      <td>IN</td>\n",
              "      <td>DT</td>\n",
              "      <td>NN</td>\n",
              "      <td>IN</td>\n",
              "      <td>DT</td>\n",
              "      <td>NNP</td>\n",
              "      <td>NNP</td>\n",
              "      <td>SYM</td>\n",
              "      <td>NNP</td>\n",
              "      <td>CC</td>\n",
              "      <td>NNP</td>\n",
              "      <td>NNP</td>\n",
              "      <td>NNP</td>\n",
              "      <td>CD</td>\n",
              "    </tr>\n",
              "    <tr>\n",
              "      <th>Tag type</th>\n",
              "      <td>DET</td>\n",
              "      <td>PROPN</td>\n",
              "      <td>PROPN</td>\n",
              "      <td>AUX</td>\n",
              "      <td>AUX</td>\n",
              "      <td>VERB</td>\n",
              "      <td>SCONJ</td>\n",
              "      <td>DET</td>\n",
              "      <td>NOUN</td>\n",
              "      <td>ADP</td>\n",
              "      <td>DET</td>\n",
              "      <td>PROPN</td>\n",
              "      <td>PROPN</td>\n",
              "      <td>SYM</td>\n",
              "      <td>PROPN</td>\n",
              "      <td>CCONJ</td>\n",
              "      <td>PROPN</td>\n",
              "      <td>PROPN</td>\n",
              "      <td>PROPN</td>\n",
              "      <td>NUM</td>\n",
              "    </tr>\n",
              "  </tbody>\n",
              "</table>\n",
              "</div>"
            ],
            "text/plain": [
              "            0      1         2    3   ...     16     17          18    19\n",
              "Word      This    NLP  Workshop   is  ...   DATA   Live  Conference  2020\n",
              "POS tag     DT    NNP       NNP  VBZ  ...    NNP    NNP         NNP    CD\n",
              "Tag type   DET  PROPN     PROPN  AUX  ...  PROPN  PROPN       PROPN   NUM\n",
              "\n",
              "[3 rows x 20 columns]"
            ]
          },
          "metadata": {
            "tags": []
          },
          "execution_count": 7
        }
      ]
    },
    {
      "cell_type": "markdown",
      "metadata": {
        "id": "vucQ8o8OVI1A"
      },
      "source": [
        "## Guide to POS Tags\n",
        "\n",
        "The most common part of speech (POS) tag schemes are those developed for the Penn Treebank.\n",
        "\n",
        "| POS Tag | Description | Example |\n",
        "|---------|---------------------------------------|-----------------------------------------|\n",
        "| CC | coordinating conjunction | and |\n",
        "| CD | cardinal number | 1, third |\n",
        "| DT | determiner | the |\n",
        "| EX | existential there | there is |\n",
        "| FW | foreign word | d’hoevre |\n",
        "| IN | preposition/subordinating conjunction | in, of, like |\n",
        "| JJ | adjective | big |\n",
        "| JJR | adjective, comparative | bigger |\n",
        "| JJS | adjective, superlative | biggest |\n",
        "| LS | list marker | 1) |\n",
        "| MD | modal | could, will |\n",
        "| NN | noun, singular or mass | door |\n",
        "| NNS | noun plural | doors |\n",
        "| NNP | proper noun, singular | John |\n",
        "| NNPS | proper noun, plural | Vikings |\n",
        "| PDT | predeterminer | both the boys |\n",
        "| POS | possessive ending | friend‘s |\n",
        "| PRP | personal pronoun | I, he, it |\n",
        "| PRP\\$ | possessive pronoun | my, his |\n",
        "| RB | adverb | however, usually, naturally, here, good |\n",
        "| RBR | adverb, comparative | better |\n",
        "| RBS | adverb, superlative | best |\n",
        "| RP | particle | give up |\n",
        "| TO | to | to go, to him |\n",
        "| UH | interjection | uhhuhhuhh |\n",
        "| VB | verb, base form | take |\n",
        "| VBD | verb, past tense | took |\n",
        "| VBG | verb, gerund/present participle | taking |\n",
        "| VBN | verb, past participle | taken |\n",
        "| VBP | verb, sing. present, non-3d | take |\n",
        "| VBZ | verb, 3rd person sing. present | takes |\n",
        "| WDT | wh-determiner | which |\n",
        "| WP | wh-pronoun | who, what |\n",
        "| WP\\$ | possessive wh-pronoun | whose |\n",
        "| WRB | wh-abverb | where, when |\n",
        "\n",
        "Source: https://www.ling.upenn.edu/courses/Fall_2003/ling001/penn_treebank_pos.html"
      ]
    }
  ]
}